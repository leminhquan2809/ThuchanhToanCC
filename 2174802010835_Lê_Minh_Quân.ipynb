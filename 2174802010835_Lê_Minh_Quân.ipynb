{
  "nbformat": 4,
  "nbformat_minor": 0,
  "metadata": {
    "colab": {
      "name": "2174802010835-Lê Minh Quân.ipynb",
      "provenance": [],
      "authorship_tag": "ABX9TyOUIuASV9pQ0D3HjjQEdAIU",
      "include_colab_link": true
    },
    "kernelspec": {
      "name": "python3",
      "display_name": "Python 3"
    },
    "language_info": {
      "name": "python"
    }
  },
  "cells": [
    {
      "cell_type": "markdown",
      "metadata": {
        "id": "view-in-github",
        "colab_type": "text"
      },
      "source": [
        "<a href=\"https://colab.research.google.com/github/leminhquan2809/ThuchanhToanCC/blob/main/2174802010835_L%C3%AA_Minh_Qu%C3%A2n.ipynb\" target=\"_parent\"><img src=\"https://colab.research.google.com/assets/colab-badge.svg\" alt=\"Open In Colab\"/></a>"
      ]
    },
    {
      "cell_type": "markdown",
      "source": [
        "# Tính đạo hàm "
      ],
      "metadata": {
        "id": "jLdHUr2DpAoc"
      }
    },
    {
      "cell_type": "markdown",
      "source": [
        "2. "
      ],
      "metadata": {
        "id": "zP0W3flxpfYZ"
      }
    },
    {
      "cell_type": "code",
      "execution_count": 2,
      "metadata": {
        "colab": {
          "base_uri": "https://localhost:8080/",
          "height": 58
        },
        "id": "_4IZtNjvoOhF",
        "outputId": "ca6b9896-f6a2-4df1-9217-0b6c353b0488"
      },
      "outputs": [
        {
          "output_type": "execute_result",
          "data": {
            "text/plain": [
              "2/(x + 2) - (2*x - 1)/(x + 2)**2"
            ],
            "text/latex": "$\\displaystyle \\frac{2}{x + 2} - \\frac{2 x - 1}{\\left(x + 2\\right)^{2}}$"
          },
          "metadata": {},
          "execution_count": 2
        }
      ],
      "source": [
        "from sympy import Derivative, Symbol\n",
        "x = Symbol('x')\n",
        "y = Symbol('y')\n",
        "Derivative((2*x-1)/(x+2),x).doit()"
      ]
    },
    {
      "cell_type": "markdown",
      "source": [
        "5. "
      ],
      "metadata": {
        "id": "vgwZNfW8rQhV"
      }
    },
    {
      "cell_type": "code",
      "source": [
        "from sympy import Derivative, Symbol\n",
        "x = Symbol('x')\n",
        "y = Symbol('y')\n",
        "x0 = -1 \n",
        "st = (x**2 + 3*x + 3)/(x + 1)\n",
        "d = Derivative(st, x) \n",
        "d.doit().subs({x:x0})"
      ],
      "metadata": {
        "colab": {
          "base_uri": "https://localhost:8080/",
          "height": 38
        },
        "id": "0qTclATvpBJA",
        "outputId": "7abcb011-51f5-4d62-c79f-58f14636e15f"
      },
      "execution_count": 10,
      "outputs": [
        {
          "output_type": "execute_result",
          "data": {
            "text/plain": [
              "nan"
            ],
            "text/latex": "$\\displaystyle \\text{NaN}$"
          },
          "metadata": {},
          "execution_count": 10
        }
      ]
    },
    {
      "cell_type": "markdown",
      "source": [
        "# Tính giới hạn "
      ],
      "metadata": {
        "id": "v32iKWKhtof8"
      }
    },
    {
      "cell_type": "markdown",
      "source": [
        "1. "
      ],
      "metadata": {
        "id": "9pwM-KLhuPxA"
      }
    },
    {
      "cell_type": "code",
      "source": [
        "from sympy import Limit, Symbol, sqrt\n",
        "x  = Symbol('x')\n",
        "Limit((sqrt(x**2 - x + 1))/(x - 1),x , 2).doit()"
      ],
      "metadata": {
        "colab": {
          "base_uri": "https://localhost:8080/",
          "height": 38
        },
        "id": "HSSsG9lltq_1",
        "outputId": "fb511466-b4b0-459f-c1ea-bfa6e556376c"
      },
      "execution_count": 14,
      "outputs": [
        {
          "output_type": "execute_result",
          "data": {
            "text/plain": [
              "sqrt(3)"
            ],
            "text/latex": "$\\displaystyle \\sqrt{3}$"
          },
          "metadata": {},
          "execution_count": 14
        }
      ]
    },
    {
      "cell_type": "markdown",
      "source": [
        "8. "
      ],
      "metadata": {
        "id": "Uh9vjUBju0qa"
      }
    },
    {
      "cell_type": "code",
      "source": [
        "from sympy import Limit, Symbol\n",
        "x  = Symbol('x')\n",
        "Limit((abs(x - 1))/(x**4 + x - 3),x , 1).doit()"
      ],
      "metadata": {
        "colab": {
          "base_uri": "https://localhost:8080/",
          "height": 38
        },
        "id": "jhnctXzAu_eg",
        "outputId": "ffa7a16e-5937-4b2b-9523-5d8f5d969400"
      },
      "execution_count": 17,
      "outputs": [
        {
          "output_type": "execute_result",
          "data": {
            "text/plain": [
              "0"
            ],
            "text/latex": "$\\displaystyle 0$"
          },
          "metadata": {},
          "execution_count": 17
        }
      ]
    }
  ]
}